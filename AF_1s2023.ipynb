{
 "cells": [
  {
   "attachments": {},
   "cell_type": "markdown",
   "metadata": {},
   "source": [
    "# Avaliação Final\n",
    "\n",
    "NOME: Felipe Maluli de Carvalho Dias\n",
    "\n",
    "\n",
    "E-MAIL: femcdias@gmail.com"
   ]
  },
  {
   "cell_type": "code",
   "execution_count": 21,
   "metadata": {},
   "outputs": [],
   "source": [
    "import numpy as np\n",
    "import pandas as pd\n",
    "import matplotlib.pyplot as plt"
   ]
  },
  {
   "attachments": {},
   "cell_type": "markdown",
   "metadata": {},
   "source": [
    "Esta é a A.F. de Álgebra Linear e Teoria da Informação de 1s2023.\n",
    "\n",
    "\n",
    "\n",
    "INSTRUÇÕES:\n",
    "\n",
    "1. Faça todas as questões\n",
    "1. Salve o notebook\n",
    "1. Envie o notebook salvo no Blackboard\n",
    "\n",
    "IMPORTANTE:\n",
    "\n",
    "* Você pode consultar qualquer material ou IA, mas não qualquer colega ou pessoa humana, presente ou não na prova.\n",
    "* O envio da prova será fechado às 17h45. Aqueles que não enviarem o material até este horário ficarão com zero.\n",
    "* A prova vale um total de 10 pontos. As questões 1, 2, 3 e 4 têm peso igual a 2.5.\n",
    "* Os conceitos F, E, D, C, B, A serão mapeados para 0, 2, 4, 6, 8 e 10.\n",
    "* Para todas as questões, usaremos a rubrica que segue anexa a esta prova. Há uma rubrica para a justificativa e uma rubrica para o código. A nota da questão é a menor entre as notas da justificativa e do código.\n"
   ]
  },
  {
   "attachments": {},
   "cell_type": "markdown",
   "metadata": {},
   "source": [
    "# Exercício 1\n",
    "\n",
    "A matriz $X$ é:\n",
    "\n",
    "$$\n",
    "X = \\begin{bmatrix} 1.5 & 0 \\\\ 2 & 0.5 \\end{bmatrix}\n",
    "$$\n",
    "\n",
    "O vetor-coluna $v$ é:\n",
    "$$\n",
    "v = \\begin{bmatrix} 1 \\\\ 1 \\end{bmatrix}\n",
    "$$\n",
    "\n",
    "$v$ é um auto-vetor de $X$? Justifique sua resposta!"
   ]
  },
  {
   "cell_type": "code",
   "execution_count": 15,
   "metadata": {},
   "outputs": [
    {
     "name": "stdout",
     "output_type": "stream",
     "text": [
      "[[0.         0.4472136 ]\n",
      " [1.         0.89442719]]\n"
     ]
    }
   ],
   "source": [
    "X = np.array([[1.5, 0], [2, 0.5]])\n",
    "eigenvalues, eigenvectors = np.linalg.eig(X)\n",
    "print(eigenvectors)"
   ]
  },
  {
   "cell_type": "code",
   "execution_count": 19,
   "metadata": {},
   "outputs": [
    {
     "data": {
      "text/plain": [
       "array([[1.5],\n",
       "       [2.5]])"
      ]
     },
     "execution_count": 19,
     "metadata": {},
     "output_type": "execute_result"
    }
   ],
   "source": [
    "# Sabemos que um autovetor é um vetor que não muda de direção quando multiplicado por uma matriz\n",
    "# Matriz Original * Autovetor = Autovetor * Lambda\n",
    "AvezesV = X @ np.array([[1],[1]])\n",
    "AvezesV"
   ]
  },
  {
   "cell_type": "markdown",
   "metadata": {},
   "source": [
    "Não existe Lambda que satisfaça a equação $Xv = v\\lambda$, pois $Xv = \\begin{bmatrix} 1.5 \\\\ 2 \\end{bmatrix}$ e $\\lambda v = \\begin{bmatrix} \\lambda \\\\ \\lambda \\end{bmatrix}$, e não existe $\\lambda$ que satisfaça a equação."
   ]
  },
  {
   "attachments": {},
   "cell_type": "markdown",
   "metadata": {},
   "source": [
    "# Exercício 2\n",
    "\n",
    "Um possível modelo para o controle de doenças é o modelo SI (Suscetível - Infectado). Nesse modelo, uma pessoa pode estar ou suscetível ou infectada. Uma pessoa suscetível não tem a doença, mas pode contraí-la a qualquer momento. Uma pessoa infectada tem a doença, mas pode se recuperar.\n",
    "\n",
    "A cada semana, uma pessoa suscetível tem uma probabilidade de continuar saudável e uma probabilidade de ficar infectada. Da mesma forma, uma pessoa que está infectada tem uma probabilidade de continuar infectada e uma probabilidade de se recuperar, voltando a estar suscetível.\n",
    "\n",
    "Esse modelo foi aplicado para a doença (fictícia!) algelinite, que faz a pessoa doente ficar azul e cheia de bolinhas amarelas. Uma pessoa com algelininte não consegue trabalhar, nem estudar, nem se divertir. A pessoa com algelinite precisa de um leito de hospital até sua recuperação completa.\n",
    "\n",
    "Através de pesquisas, cientistas determinaram que:, a cada semana:\n",
    "\n",
    "* A probabilidade de uma pessoa suscetível se infectar com algelininte é $0.01$ (e, por consequência, a probabilidade de simplesmente continuar suscetível é $0.99$).\n",
    "* A probabilidade de uma pessoa infectada se recuperar (se estiver num leito hospitalar) é $0.2$ (e, por consequência, a probabilidade de continuar doente é $0.8$).\n",
    "\n",
    "Na cidade de São Paulo há 10 milhões de pessoas, inicialmente saudáveis. Quantos leitos de hospital são tipicamente necessários para controlar a algelininte na capital paulista ao longo de um tempo longo? Justifique sua resposta!"
   ]
  },
  {
   "cell_type": "code",
   "execution_count": 76,
   "metadata": {},
   "outputs": [
    {
     "data": {
      "image/png": "[encoded data removed]",
      "text/plain": [
       "<Figure size 432x288 with 1 Axes>"
      ]
     },
     "metadata": {
      "needs_background": "light"
     },
     "output_type": "display_data"
    }
   ],
   "source": [
    "adoecer_vs_melhorar = np.array([[0.99, 0.2], [0.01, 0.8]])\n",
    "populacao_doente_saudavel = [np.array([10,0])]\n",
    "for _ in range(100):\n",
    "    populacao_doente_saudavel.append(adoecer_vs_melhorar @ np.array(populacao_doente_saudavel[-1]).T)\n",
    "\n",
    "populacao_doente_saudavel = np.array(populacao_doente_saudavel)\n",
    "\n",
    "plt.plot(populacao_doente_saudavel[:,0], label='saudavel')\n",
    "plt.plot(populacao_doente_saudavel[:,1], label='doente')\n",
    "plt.legend()\n",
    "plt.show()"
   ]
  },
  {
   "cell_type": "code",
   "execution_count": 78,
   "metadata": {},
   "outputs": [
    {
     "name": "stdout",
     "output_type": "stream",
     "text": [
      "[1.   0.79] \n",
      " [[ 0.99875234 -0.70710678]\n",
      " [ 0.04993762  0.70710678]]\n"
     ]
    }
   ],
   "source": [
    "w,v = np.linalg.eig(adoecer_vs_melhorar)\n",
    "print(w,'\\n',v)\n",
    "\n",
    "# Autovalor menor que um -> Oscilacao\n",
    "# Autovalor de 1 -> Ponto de Estabilidade"
   ]
  },
  {
   "cell_type": "code",
   "execution_count": 79,
   "metadata": {},
   "outputs": [
    {
     "name": "stdout",
     "output_type": "stream",
     "text": [
      "Ponto de Estabilidade:  [9.52380952 0.47619048]\n"
     ]
    }
   ],
   "source": [
    "print(\"Ponto de Estabilidade: \", populacao_doente_saudavel[-1])"
   ]
  },
  {
   "cell_type": "code",
   "execution_count": 81,
   "metadata": {},
   "outputs": [
    {
     "name": "stdout",
     "output_type": "stream",
     "text": [
      "Leitos Necessarios:  476190.47616290324\n"
     ]
    }
   ],
   "source": [
    "print(\"Leitos Necessarios: \", populacao_doente_saudavel[-1][1] * 1000000)"
   ]
  },
  {
   "cell_type": "markdown",
   "metadata": {},
   "source": [
    "Após fazer uma multiplicação matricial da matriz de transformação $T = \\begin{bmatrix} 0.99 & 0.2 \\\\ 0.01 & 0.8 \\end{bmatrix}$ por um vetor coluna de populacao em milhões $v = \\begin{bmatrix} 10 \\\\ 0 \\end{bmatrix}$ 100 vezes, representando 100 semanas, obtive o vetor coluna $v' = \\begin{bmatrix} 9.52380952 \\\\ 0.47619048 \\end{bmatrix}$. Ou seja, após 100 semanas, 476 mil de pessoas estarão infectadas e 9.52380952 milhões de pessoas estarão saudáveis. Como cada pessoa infectada precisa de um leito de hospital, serão necessários 4.46927374 milhões de leitos de hospital para controlar a algelininte na capital paulista ao longo de um tempo longo."
   ]
  },
  {
   "attachments": {},
   "cell_type": "markdown",
   "metadata": {},
   "source": [
    "# Exercício 3\n",
    "\n",
    "Um grupo de cientistas de dados coletou dados sobre os hábitos de estudo de alunos de uma sala de aula do ensino médio. Os dados coletados, para cada aluno, são a sua nota na prova final de Filosofia e o tempo que cada aluno passou estudando.\n",
    "\n",
    "Os dados do tempo de estudo ($t$) e da nota da na prova ($y$) estão abaixo.\n",
    "\n",
    "Embora os alunos tenham reclamado que a prova estava difícil, a coordenação da escola argumentou que está claro que, quanto maior o tempo de estudo, maior foi a nota na prova. Ainda, uma das diretrizes da escola diz que as provas são planejadas para que, com 4h de estudo, seja absolutamente factível tirar nota 8 na prova. A coordenção da escola diz que a nota, inclusive, pode ser predita com um modelo linear do tipo $y=at+b$.\n",
    "\n",
    "Como representante da equipe de ciência de dados:\n",
    "\n",
    "1. Argumente sobre se o modelo proposto pela coordenação é adequado para prever as notas dos alunos, e, se for o caso, proponha um modelo diferente,\n",
    "1. Usando `autograd`, encontre os parâmetros do modelo que permite prever a nota com base no tempo de estudo,\n",
    "1. Mostre uma figura com os pontos medidos sobrepostos a uma linha que evidencie as predições do modelo,\n",
    "1. Usando os parâmetros do modelo que você escolheu, decida se é factível tirar nota 8 na prova com 4h de estudo."
   ]
  },
  {
   "cell_type": "code",
   "execution_count": 89,
   "metadata": {},
   "outputs": [
    {
     "name": "stdout",
     "output_type": "stream",
     "text": [
      "1.931904352277194 2.068339431079908\n"
     ]
    },
    {
     "data": {
      "image/png": "[encoded data removed]",
      "text/plain": [
       "<Figure size 432x288 with 1 Axes>"
      ]
     },
     "metadata": {
      "needs_background": "light"
     },
     "output_type": "display_data"
    }
   ],
   "source": [
    "import matplotlib.pyplot as plt\n",
    "import autograd.numpy as np_\n",
    "from autograd import grad\n",
    "\n",
    "def loss( parametros ):\n",
    "    a, b, x, y_medido = parametros\n",
    "    yhat = a * x + b\n",
    "    mse = np_.mean( (yhat - y_medido)**2 )\n",
    "    return mse\n",
    "\n",
    "g = grad(loss)\n",
    "\n",
    "t = np.array([0.0, 0.0, 0.1, 0.1, 0.2, 0.2, 0.2, 0.3, 0.3, 0.4, 0.4, 0.4, 0.5, 0.5, 0.6, 0.6, 0.7, 0.7, 0.7, 0.8, 0.8, 0.9, 0.9, 0.9, 1.0, 1.0, 1.1, 1.1, 1.1, 1.2, 1.2, 1.3, 1.3, 1.3, 1.4, 1.4, 1.5, 1.5, 1.6, 1.6, 1.6, 1.7, 1.7, 1.8, 1.8, 1.8, 1.9, 1.9, 2.0, 2.0])\n",
    "y = np.array([2.0, 2.1, 2.1, 2.5, 2.2, 2.3, 2.5, 2.6, 2.6, 2.8, 2.8, 3.1, 3.0, 3.2, 3.2, 3.4, 3.5, 3.5, 3.5, 3.6, 3.6, 3.7, 4.0, 3.8, 4.0, 4.1, 4.2, 4.2, 4.1, 4.3, 4.3, 4.5, 4.7, 4.5, 4.8, 4.8, 4.9, 5.2, 4.9, 5.1, 5.3, 5.4, 5.6, 5.5, 5.3, 5.6, 5.8, 5.7, 5.8, 5.9])\n",
    "\n",
    "a = 0.0\n",
    "b = 0.0\n",
    "\n",
    "for i in range(1000):\n",
    "    gradiente = g( (a, b, t, y) )\n",
    "    a = a - 0.01 * gradiente[0]\n",
    "    b = b - 0.01 * gradiente[1]\n",
    "\n",
    "print(a, b)\n",
    "plt.figure()\n",
    "plt.scatter(t,y)\n",
    "plt.plot(t, a * np.array(t) + b, color='red')\n",
    "plt.xlabel('Tempo de estudo (h)')\n",
    "plt.ylabel('Nota na prova')\n",
    "plt.show()"
   ]
  },
  {
   "cell_type": "markdown",
   "metadata": {},
   "source": [
    "3a ) O modelo de reta se ajusta bem aos dados, portanto sim\n",
    "3b ) Parametros encontrados -> a = 1.93, b = 2.068339431079908"
   ]
  },
  {
   "cell_type": "code",
   "execution_count": 90,
   "metadata": {},
   "outputs": [
    {
     "name": "stdout",
     "output_type": "stream",
     "text": [
      "9.795956840188683\n"
     ]
    }
   ],
   "source": [
    "resultado_4_horas = a * 4 + b\n",
    "print(resultado_4_horas)"
   ]
  },
  {
   "cell_type": "markdown",
   "metadata": {},
   "source": [
    "3d ) É factível tirar pelo menos nota 8 na prova com 4h de estudo, até uma nota maior como 9.8"
   ]
  },
  {
   "attachments": {},
   "cell_type": "markdown",
   "metadata": {},
   "source": [
    "# Exercício 4\n",
    "\n",
    "Após realizar a compressão de uma sequência com o Código de Huffman, obtemos a seguinte árvore:\n",
    "\n",
    "<img src=\"arvore.png\" />\n",
    "\n"
   ]
  },
  {
   "attachments": {},
   "cell_type": "markdown",
   "metadata": {},
   "source": [
    "\n",
    "1. Qual é a codificação da sequência: `ABBCBAAACD`?\n",
    "1. Qual é a sequência cuja codificação é: `010110111111110100`?"
   ]
  },
  {
   "cell_type": "markdown",
   "metadata": {},
   "source": [
    "1. 01010110100001110111\n",
    "2. ABCDDCBA"
   ]
  },
  {
   "attachments": {},
   "cell_type": "markdown",
   "metadata": {},
   "source": []
  }
 ],
 "metadata": {
  "kernelspec": {
   "display_name": "math",
   "language": "python",
   "name": "python3"
  },
  "language_info": {
   "codemirror_mode": {
    "name": "ipython",
    "version": 3
   },
   "file_extension": ".py",
   "mimetype": "text/x-python",
   "name": "python",
   "nbconvert_exporter": "python",
   "pygments_lexer": "ipython3",
   "version": "3.9.10"
  },
  "orig_nbformat": 4
 },
 "nbformat": 4,
 "nbformat_minor": 2
}
