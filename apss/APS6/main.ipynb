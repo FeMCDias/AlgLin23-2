{
 "cells": [
  {
   "cell_type": "code",
   "execution_count": 164,
   "metadata": {},
   "outputs": [],
   "source": [
    "import random\n",
    "class JogoDeForca:\n",
    "    def __init__(self):\n",
    "        import requests\n",
    "        url = 'https://www.ime.usp.br/~pf/dicios/br-sem-acentos.txt'\n",
    "        r = requests.get(url, allow_redirects=True)\n",
    "        if r.status_code==200:\n",
    "            self.content = str(r.content.decode()).split('\\n')\n",
    "        #else:\n",
    "            #print(\"Erro: \", r.status_code)\n",
    "    \n",
    "    def novo_jogo(self, vidas=5):\n",
    "        self.vidas = vidas\n",
    "        self.palavra = random.choice(self.content)\n",
    "        return len(self.palavra)\n",
    "\n",
    "    def tentar_letra(self, letra):\n",
    "        if self.vidas > 0:\n",
    "            if letra in self.palavra:\n",
    "                return [idx for idx in range(len(self.palavra)) if self.palavra[idx]==letra]\n",
    "            else:\n",
    "                self.vidas -= 1\n",
    "                if self.vidas == 0:\n",
    "                    #print(\"Fim de jogo!\")\n",
    "                    return False\n",
    "                else:\n",
    "                    return []\n",
    "        \n",
    "    def tentar_palavra(self, palavra):\n",
    "        if self.vidas > 0:\n",
    "            if self.palavra == palavra:\n",
    "                #print (\"Ganhou!\")\n",
    "                return True\n",
    "            else:\n",
    "                self.vidas = 0\n",
    "                #print(\"Fim de jogo!\")\n",
    "                return False"
   ]
  },
  {
   "cell_type": "code",
   "execution_count": 165,
   "metadata": {},
   "outputs": [],
   "source": [
    "def letra_frequente(letras_tentadas, lista):\n",
    "    dict = {}\n",
    "    for palavra in lista:\n",
    "        for letra in palavra:\n",
    "           if letra not in letras_tentadas:\n",
    "                if letra in dict:\n",
    "                    dict[letra] += 1\n",
    "                else:\n",
    "                    dict[letra] = 1\n",
    "    return max(dict, key=dict.get)\n",
    "\n",
    "\n"
   ]
  },
  {
   "cell_type": "code",
   "execution_count": 166,
   "metadata": {},
   "outputs": [],
   "source": [
    "def filtrar_palavras(palavras, num):\n",
    "    lista = []\n",
    "    for palavra in palavras:\n",
    "        if len(palavra) == num:\n",
    "            lista.append(palavra)\n",
    "    return lista"
   ]
  },
  {
   "cell_type": "code",
   "execution_count": 185,
   "metadata": {},
   "outputs": [],
   "source": [
    "def main():\n",
    "    jogo = JogoDeForca()\n",
    "    tamanho_palavra = jogo.novo_jogo()\n",
    "    letras_tentadas = []\n",
    "    lista_filtrada = filtrar_palavras(jogo.content, tamanho_palavra)\n",
    "\n",
    "    while jogo.vidas > 0:\n",
    "        letra = letra_frequente(letras_tentadas, lista_filtrada)\n",
    "        resultado = jogo.tentar_letra(letra)\n",
    "        letras_tentadas.append(letra)\n",
    "\n",
    "        if resultado == False:\n",
    "            print(jogo.palavra)\n",
    "            return False\n",
    "\n",
    "        elif resultado != []:\n",
    "            nova_lista = [palavra for palavra in lista_filtrada if all(palavra[idx] == letra for idx in resultado)]\n",
    "\n",
    "        else:\n",
    "            nova_lista = [i for i in lista_filtrada if letra not in i]\n",
    "\n",
    "        lista_filtrada = nova_lista\n",
    "\n",
    "        if len(lista_filtrada) == 1:\n",
    "            return jogo.tentar_palavra(lista_filtrada[0])\n",
    "    \n",
    "    return False"
   ]
  },
  {
   "cell_type": "markdown",
   "metadata": {},
   "source": [
    "## Analisando os principais casos de erros"
   ]
  },
  {
   "cell_type": "code",
   "execution_count": 186,
   "metadata": {},
   "outputs": [
    {
     "name": "stdout",
     "output_type": "stream",
     "text": [
      "inegavel\n",
      "atalharao\n",
      "falho\n",
      "arcabuz\n",
      "adelgacou\n",
      "golpeara\n",
      "abalizas\n",
      "coexista\n",
      "pulavas\n"
     ]
    }
   ],
   "source": [
    "ganhou = 0\n",
    "for i in range(200):\n",
    "    if main():\n",
    "        ganhou += 1"
   ]
  },
  {
   "cell_type": "markdown",
   "metadata": {},
   "source": [
    "Com os resultados das palavras acima, podemos entender que quanto menos repetições de uma letra na palavra, mais dificil é de acertar a palavra, tendo em vista que essa situação restringe menos os possíveis resultados, dando mais possibilidades de erros.\n",
    "\n",
    "Além disso, posições onde a letra se repete porém em lugares \"comuns\" não eliminam muitas possibilidades, como por exemplo a letra \"a\" na posição 2, que é uma posição comum para essa na lingua portuguesa, e por isso não elimina muitas possibilidades."
   ]
  },
  {
   "cell_type": "code",
   "execution_count": null,
   "metadata": {},
   "outputs": [],
   "source": []
  },
  {
   "cell_type": "markdown",
   "metadata": {},
   "source": [
    "## Probabilidade de vitória com 200 iterações"
   ]
  },
  {
   "cell_type": "code",
   "execution_count": 190,
   "metadata": {},
   "outputs": [
    {
     "name": "stdout",
     "output_type": "stream",
     "text": [
      "Ganhou:  191\n",
      "Perdeu:  9\n"
     ]
    }
   ],
   "source": [
    "print(\"Ganhou: \", ganhou)\n",
    "print(\"Perdeu: \", 200-ganhou)"
   ]
  },
  {
   "cell_type": "code",
   "execution_count": 209,
   "metadata": {},
   "outputs": [
    {
     "data": {
      "image/png": "[encoded data removed]",
      "text/plain": [
       "<Figure size 640x480 with 1 Axes>"
      ]
     },
     "metadata": {},
     "output_type": "display_data"
    }
   ],
   "source": [
    "#plot o gráfico de pizza\n",
    "import matplotlib.pyplot as plt\n",
    "labels = 'Ganhou', 'Perdeu'\n",
    "sizes = [ganhou, 200-ganhou]\n",
    "explode = (0, 0.1)  # somente explode o segundo pedaço\n",
    "fig1, ax1 = plt.subplots()\n",
    "ax1.pie(sizes, explode=explode, labels=labels, autopct='%1.1f%%',\n",
    "            shadow=False, startangle=90)\n",
    "ax1.axis('equal')  # Assegura que o gráfico é desenhado em um círculo.\n",
    "ax1.patches[0].set_facecolor('green')\n",
    "ax1.patches[1].set_facecolor('darkred')\n",
    "# colocar borda rosa\n",
    "for w in ax1.patches:\n",
    "    w.set_linewidth(1)\n",
    "    w.set_edgecolor('black')\n",
    "ax1.legend(labels, loc='upper right')\n",
    "plt.title('Probabilidade de ganhar')\n",
    "plt.show()"
   ]
  },
  {
   "cell_type": "code",
   "execution_count": null,
   "metadata": {},
   "outputs": [],
   "source": []
  }
 ],
 "metadata": {
  "kernelspec": {
   "display_name": "env",
   "language": "python",
   "name": "python3"
  },
  "language_info": {
   "codemirror_mode": {
    "name": "ipython",
    "version": 3
   },
   "file_extension": ".py",
   "mimetype": "text/x-python",
   "name": "python",
   "nbconvert_exporter": "python",
   "pygments_lexer": "ipython3",
   "version": "3.11.1"
  }
 },
 "nbformat": 4,
 "nbformat_minor": 2
}
