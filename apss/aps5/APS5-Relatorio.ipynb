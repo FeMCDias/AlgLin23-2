{
 "cells": [
  {
   "cell_type": "markdown",
   "metadata": {},
   "source": [
    "# Projeto 5: \"Classificador AVC\""
   ]
  },
  {
   "cell_type": "markdown",
   "metadata": {},
   "source": [
    "WARNING: Esse notebook foi feito sem ter acesso ao codigo da aps. Por isso, pode ser que algumas coisas estejam diferentes do que foi pedido."
   ]
  },
  {
   "cell_type": "markdown",
   "metadata": {},
   "source": [
    "1: Como funciona o classificador linear implementado?"
   ]
  },
  {
   "cell_type": "markdown",
   "metadata": {},
   "source": [
    "O Classificador Linear que implemtamos foi um de regressão linear (gradiente descendente). Ele funciona da seguinte forma:\n",
    "\n",
    "1. **Inicialização dos Parâmetros**: \n",
    "   - Os pesos **w** e o viés **b** são inicializados com valores aleatórios. Eles são os parâmetros que o modelo aprenderá a ajustar.\n",
    "\n",
    "2. **Modelo Linear**:\n",
    "   - O modelo linear é descrito pela equação $( y = w^T X + b)$, onde $ y $ é a saída estimada, $ X $ são as variáveis de entrada, $ w $ são os pesos, e $ b $ é o viés.\n",
    "\n",
    "3. **Função de Perda**:\n",
    "   - O modelo utiliza o Erro Quadrático Médio (MSE) como sua função de perda. O MSE é calculado como a média do quadrado das diferenças entre as saídas estimadas e as reais.\n",
    "\n",
    "4. **Gradiente Descendente**:\n",
    "   - O gradiente da função de perda é calculado em relação aos pesos **w** e ao viés **b**. \n",
    "   - Os valores de **w** e **b** são atualizados subtraindo um produto da taxa de aprendizagem **α** e o gradiente. Este processo é repetido para um número definido de iterações.\n",
    "\n",
    "5. **Atualização dos Parâmetros**:\n",
    "   - Em cada iteração, **w** e **b** são ajustados na direção que reduz o MSE. Esse processo continua até que o modelo convirja para uma solução estável ou até que o número máximo de iterações seja alcançado.\n",
    "\n",
    "6. **Avaliação do Modelo**:\n",
    "   - Após o treinamento, o modelo é avaliado usando um conjunto de teste. A acurácia ou outra métrica de desempenho é calculada para determinar o quão bem o modelo performa em dados não vistos durante o treinamento.\n",
    "\n",
    "## Características do Modelo\n",
    "- Este modelo é adequado para tarefas de regressão ou classificação linear, onde a relação entre as variáveis de entrada e a saída é aproximadamente linear, e não utiliza funções de ativação não-lineares como a sigmóide, portanto, é mais simples e direto em comparação com modelos de regressão logística ou redes neurais."
   ]
  },
  {
   "cell_type": "markdown",
   "metadata": {},
   "source": [
    "2: Quais foram os hiperparâmetros utilizados no classificador linear e como estes interferem na qualidade do modelo?"
   ]
  },
  {
   "cell_type": "markdown",
   "metadata": {},
   "source": [
    "No classificador linear implementado, os principais hiperparâmetros são:\n",
    "\n",
    "1. **Taxa de Aprendizado (α)**:\n",
    "   - Definida como `10**-2` no código.\n",
    "   - Controla a velocidade com que o modelo modelo desce o gradiente. Se o step for muito alto, o modelo pode oscilar ou divergir. Se for muito baixo, o treinamento pode ser ineficiente e ficar preso em mínimos locais.\n",
    "\n",
    "2. **Número de Iterações**:\n",
    "   - O loop for executa 1000(Não lembro mas por ai) iterações.\n",
    "   - Determina quantas vezes o processo de atualização dos pesos e viés é repetido. Mais iterações podem permitir uma convergência mais precisa, mas também aumentam o tempo de treinamento, e podem levar a um sobreajuste (overfitting) se forem muito altas.\n"
   ]
  },
  {
   "cell_type": "markdown",
   "metadata": {},
   "source": [
    "3: Como funciona a árvore de decisão implementada?"
   ]
  },
  {
   "cell_type": "markdown",
   "metadata": {},
   "source": [
    "A entropia é um conceito da teoria da informação usado para quantificar a impureza ou incerteza em um conjunto de dados. Na árvore de decisão, é usada para determinar como realizar a divisão de nós de maneira que se obtenha a maior informação possível.\n",
    "\n",
    "### Fórmula da Entropia\n",
    "A entropia de um nó é calculada usando a seguinte fórmula:\n",
    "\n",
    "$E(S) = \\sum_{i=1}^{c} - p_i \\log_2 p_i $\n",
    "\n",
    "onde:\n",
    "- \\( S \\) é o conjunto de dados do nó.\n",
    "- \\( c \\) é o número de classes.\n",
    "- \\( p_i \\) é a proporção de elementos da classe \\( i \\) no conjunto \\( S \\).\n",
    "- O somatório é calculado para todas as classes no nó.\n",
    "\n",
    "### Interpretação\n",
    "- **Alta Entropia**: Indica alta impureza, significando que o conjunto de dados do nó possui uma distribuição quase uniforme de classes. Ou seja, há muita incerteza ou variabilidade nas classes desse nó.\n",
    "- **Baixa Entropia**: Indica baixa impureza, o que significa que a maioria dos elementos no nó pertence a uma única classe. Há pouca incerteza ou variabilidade nas classes.\n",
    "\n",
    "### Uso na Árvore de Decisão\n",
    "- Durante a construção da árvore, o algoritmo tenta dividir os nós de maneira que a entropia após a divisão seja minimizada (ou o ganho de informação seja maximizado).\n",
    "- A divisão que resulta na maior redução da entropia total (ou no maior ganho de informação) é escolhida para dividir o nó."
   ]
  },
  {
   "cell_type": "markdown",
   "metadata": {},
   "source": [
    "4: Quais foram os hiperparâmetros utilizados na árvore de decisão e como estes interferem na qualidade do modelo?"
   ]
  },
  {
   "cell_type": "markdown",
   "metadata": {},
   "source": [
    "1. **Critério de Divisão (`criterion`)**:\n",
    "   - Definido como `entropy`.\n",
    "   - Como expliquei anteriormente a entropia é usada para determinar como realizar a divisão de nós de maneira que se obtenha a maior informação possível.\n",
    "\n",
    "   - **Entropia**: É uma medida de incerteza ou impureza. Quanto maior a entropia, maior a incerteza. A entropia é calculada para cada nó após a divisão. O nó com a menor entropia é escolhido como o critério de divisão.\n",
    "\n",
    "2. **Não Lembro se Usamos: Profundidade Máxima (`max_depth`)**:\n",
    "   - Limita a profundidade da árvore. Uma profundidade maior permite ao modelo capturar mais detalhes, mas aumenta o risco de sobreajuste."
   ]
  },
  {
   "cell_type": "markdown",
   "metadata": {},
   "source": [
    "5: O que é o recall score? Como ele funciona? Como ele ajuda a identificar se o classificador está funcionando bem?"
   ]
  },
  {
   "cell_type": "markdown",
   "metadata": {},
   "source": [
    "Recall score/sensibilidade é uma métrica usada para avaliar a eficácia de um classificador em identificar casos positivos em machine learning. Casos positivos são em que o modelo prevê um chute positivo para o que estamos tentando prever, e de fato acerta. Ex. um modelo que prevê que um paciente teve um avc, e de fato ele teve.\n",
    "\n",
    "### Fórmula do Recall\n",
    "O recall é calculado pela fórmula:\n",
    "\n",
    "${Recall} = \\frac{\\text{Verdadeiros Positivos (VP)}}{\\text{Verdadeiros Positivos (VP)} + \\text{Falsos Negativos (FN)}}$\n",
    "\n",
    "onde:\n",
    "- **Verdadeiros Positivos (VP)**: São os casos em que o modelo corretamente prediz a classe positiva.\n",
    "- **Falsos Negativos (FN)**: São os casos em que o modelo incorretamente prediz a classe negativa para uma observação que é realmente positiva.\n",
    "\n",
    "## Como Funciona?\n",
    "- O recall mede a proporção de positivos reais que foram identificados corretamente pelo modelo.\n",
    "- Um recall de 1 (ou 100%) significa que todos os positivos reais foram identificados corretamente, enquanto um recall de 0 indica que nenhum positivo real foi identificado.\n",
    "\n",
    "## Identificando a Eficácia do Classificador\n",
    "- **Alto Recall**: Indica que a maioria dos casos positivos foram identificados corretamente. É importante em situações onde não se pode perder muitos casos positivos, como em diagnósticos médicos.\n",
    "- **Baixo Recall**: Sugere que muitos casos positivos não foram identificados, o que pode ser problemático em situações críticas.\n",
    "- **Equilíbrio com Precisão**: O recall deve ser equilibrado com outras métricas, como a precisão. Um recall muito alto pode ser acompanhado de uma baixa precisão, o que significa que muitos negativos são incorretamente classificados como positivos.\n",
    "\n",
    "## Porque ajuda?\n",
    "O recall é uma métrica crucial para avaliar classificadores, especialmente em contextos onde os Falsos Negativos têm consequências graves. Ele fornece insights sobre a capacidade do modelo de detectar todas as instâncias positivas relevantes.\n"
   ]
  },
  {
   "cell_type": "code",
   "execution_count": null,
   "metadata": {
    "vscode": {
     "languageId": "plaintext"
    }
   },
   "outputs": [],
   "source": []
  }
 ],
 "metadata": {
  "language_info": {
   "name": "python"
  },
  "orig_nbformat": 4
 },
 "nbformat": 4,
 "nbformat_minor": 2
}
