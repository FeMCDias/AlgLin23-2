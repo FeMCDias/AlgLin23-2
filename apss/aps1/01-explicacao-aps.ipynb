{
 "cells": [
  {
   "cell_type": "markdown",
   "metadata": {},
   "source": [
    "# APS 1 - Jogo Alvos no Espaço"
   ]
  },
  {
   "cell_type": "markdown",
   "metadata": {},
   "source": [
    "* LINK PRA PASTA NO REPOSITÓRIO CONTENDO O JOGO: https://github.com/mfstabile/AlgLin23-2/tree/main/apss/aps1"
   ]
  },
  {
   "cell_type": "markdown",
   "metadata": {},
   "source": [
    "### Descrição do Jogo:\n",
    "<br>\n",
    "No nosso jogo, o jogador deve arremesar um projétil no meio do espaço para atingir alvos. As vezes, pode ser necessário utilizar a atração gravitacional dos planetas no espaço para acertar o projétil. O jogo tem três níveis, com quantidades diferentes de alvos. O personagem tem munição limitada para a acertar todos os alvos.\n",
    "<br>\n",
    "<br>\n",
    "\n",
    "### Como Jogar\n",
    "<br>\n",
    "O projétil (Ponto Verde) começa suspendido no espaço. Ao clicar em algum ponto da tela, o jogador lança o projétil na direção do click. Se ele acertar o alvo (Ponto Azul), e se não tiver mais alvos para acertar, o jogador passa de nível ou ganha o jogo. Se tiverem outros alvos para acertar, o projétil para na posição que colidiu com o último alvo.\n",
    "<br>\n",
    "\n",
    "* Aviso: Os pontos vermelhos representam planetas, e tem um círculo por volta deles representando suas órbitas. Ao entrar na órbita de um planeta, o projétil vai ser puxado gradualmente para o centro do planeta! Cuidado com as órbitas, pois elas podem ajudar ou atrapalhar!\n",
    "* Se você acertar o canto da tela, você perde uma tentativa e começa a próxima. Se esgotarem suas tentativas, você perde!\n",
    "<br>\n",
    "<br>\n",
    "\n",
    "\n"
   ]
  },
  {
   "cell_type": "markdown",
   "metadata": {},
   "source": [
    "Para executar o programa, siga os seguintes passos:\n",
    "\n",
    "1. Clone o repositório com `git clone https://github.com/mfstabile/AlgLin23-2.git`\n",
    "2. Crie um ambiente virtual com `python -m venv env` ou `env/Scripts/Activate.ps1`\n",
    "3. Entre na pasta da aps1 do repositório clonado com o comando: `cd apss/aps1/`\n",
    "4. Instale o pygame e o numpy utilizando `pip install pygame` e `pip install numpy`\n",
    "5. Rode o comando `python main.py`"
   ]
  },
  {
   "cell_type": "markdown",
   "metadata": {},
   "source": [
    "### Descrição do Modelo Físico:\n",
    "<br>\n",
    "\n",
    "Cada objeto (projétil, planeta, alvo) é representado por um vetor de posição $\\boldsymbol{[x,y]}$ e um vetor de velocidade $\\boldsymbol{[Vx,Vy]}$. Todos os objetos são representados por círculos, com cores e raios diferentes.\n",
    "<br><br>\n",
    "\n",
    "Todos objetos começam com vetor de velocidade $\\boldsymbol{[Vx,Vy] = [0,0]}$\n",
    "<br><br>\n",
    "Quando o usuário clica o mouse em uma posição na tela, começa o processo de disparar o projétil em direção ao mouse seguindo um movimento uniforme. Começamos extraíndo e salvando a posição do mouse utilizando pygame e numpy:\n",
    "\n",
    "`mouse = pygame.mouse.get_pos()`\n",
    "`mouse = np.array(mouse)`\n",
    "<br>\n",
    "\n",
    "Em seguida, calculamos o vetor de velocidade correspondendo à diferença entre o alvo, $\\boldsymbol{[x,y]}$, e a posição do click. O vetor de velocidade é atualizado da seguinte forma:\n",
    "<br>\n",
    "\n",
    "$\\boldsymbol{V}_{n} = \\boldsymbol {S_n} - \\boldsymbol {S_{n-1}}$\n",
    "<br> \n",
    "\n",
    "Aqui, $\\boldsymbol {S_n}$ representa a posição do mouse e $\\boldsymbol {S_{n-1}}$ representa a do projétil.\n",
    "<br>\n",
    "\n",
    "Fizemos isso com o numpy `v = mouse - state['objeto'].s`\n",
    "<br>\n",
    "\n",
    "Depois normalizamos o vetor, pegando seu módulo, `mod = np.linalg.norm(v)`, e dividindo as velocidades $\\boldsymbol{v}_{x}$ e $\\boldsymbol{v}_{y}$ pelo módulo.<br><br>\n",
    "$\\boldsymbol{Vx}_{n} = \\boldsymbol{Vx}_{n-1} $  $/$  $|\\boldsymbol{V}|$<br>\n",
    "$\\boldsymbol{Vy}_{n} = \\boldsymbol{Vy}_{n-1} $  $/$  $|\\boldsymbol{V}|$\n",
    "<br>\n",
    "\n",
    "Após normalizar o vetor de velocidade, aplicamos um fator de 2 para o vetor de velocidade (Por questão de jogabilidade, não queremos que o projétil se movimente muito lentamente), resultando num vetor final de velocidade:\n",
    "<br>\n",
    "\n",
    "$\\boldsymbol{V}_{n} = (\\boldsymbol {S_n} - \\boldsymbol {S_{n-1}}$)^${*2}$\n",
    "<br>\n",
    "Lembre que o ^ indica a normalização de um vetor.\n",
    "<br><br>\n",
    "\n",
    "Finalmente, a cada vez que o clock do pygame roda, o seguinte movimento uniforme acontece com a posição atual do projétil, independentemente da velocidade:\n",
    "\n",
    "$\\boldsymbol{S_n} = \\boldsymbol {S}_{n-1} + \\boldsymbol{V}_{n}$\n",
    "\n",
    "<br>\n",
    "Portanto, a partir do momento que o vetor de velocidade do projétil muda para o que foi calculado acima, o projétil se desloca na tela.\n"
   ]
  },
  {
   "cell_type": "markdown",
   "metadata": {},
   "source": [
    "Agora chegamos no que acontece quando o projétil colide com uma órbita de planeta. Calculamos essa colisão com o código:\n",
    "* `np.linalg.norm(planeta.s - state['objeto'].s) < planeta.raio`<br>\n",
    "\n",
    "Esse código vê se a norma da diferença das posiçoes $\\boldsymbol{S_{Planeta}}$ e $\\boldsymbol{S_{Projétil}}$ é menor que o raio da órbita, ou seja, se a posição do projétil entrou dentro da circumfência da órbita. \n",
    "<br><br>\n",
    "Se de fato houve uma colisão, enquanto o projétil permanecer dentro da órbita do planeta, seu vetor de velocidade será alterado da seguinte forma:<br><br>\n",
    "\n",
    "1. Calculamos um vetor de velocidade dado com a diferença entre $\\boldsymbol{S_{Planeta}}$ e $\\boldsymbol{S_{Projétil}}$<br>\n",
    "2. Multiplicamos por um fator atrator próprio de cada planeta (um número pequeno para fazer com que o projétil não seja puxado imediatamente pro centro do planeta), definido na sua criação, que chamaremos de k:<br>\n",
    "$\\boldsymbol{V_{Atração}} = k*(\\boldsymbol{S_{Planeta}} - \\boldsymbol{S_{Projétil}})$\n",
    "3. Adicionamos o vetor de velocidade de atração $(\\boldsymbol{V_{Atração}})$ ao vetor de velocidade do projétil $(\\boldsymbol{S_{Projétil}})$<br>\n",
    "Utilizando a notação que desenvolvemos até agora, $(\\boldsymbol{V_{n}})$ sendo o vetor de velocidade do Projétil:<br>\n",
    "$\\boldsymbol{V}_{n} = \\boldsymbol{V}_{n-1} + \\boldsymbol{V_{Atração}}$\n",
    "4. Se sair da orbita, o vetor de velocidade do projétil para de ser afetado, e continua estável até alcançar o alvo, sair da tela, ou entrar na órbita de outro planeta.\n",
    "<br><br>\n",
    "\n",
    "#### Último lembrete!\n",
    "Se o projétil sair pra fora da tela, ele volta para sua posição inicial, e seu vetor de velocidade volta a ser $\\boldsymbol{[Vx,Vy] = [0,0]}$\n"
   ]
  }
 ],
 "metadata": {
  "language_info": {
   "name": "python"
  },
  "orig_nbformat": 4
 },
 "nbformat": 4,
 "nbformat_minor": 2
}
