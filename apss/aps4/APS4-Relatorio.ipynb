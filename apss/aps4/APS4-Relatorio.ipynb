{
 "cells": [
  {
   "cell_type": "markdown",
   "metadata": {},
   "source": [
    "# Projeto 4: \"O Desafio NetFlix\""
   ]
  },
  {
   "cell_type": "markdown",
   "metadata": {},
   "source": [
    "1: O que acontece quando um elemento da matriz é aleatorizado?"
   ]
  },
  {
   "cell_type": "markdown",
   "id": "d46f528d",
   "metadata": {},
   "source": [
    "Quando um elemento é aleatorizado, introduzimos um ruído nos dados. Seria parecido com mudar a cor de um pixel numa imagem. No contexto do nosso projeto, mudamos um rating de um filme de um usuário, o que pode resultar em três coisas: o usuário gostar mais do filme, gostar menos do filme ou não mudar sua opinião sobre o filme. Irrelevantemente do resultado, o introduzimos esse ruído para depois decompor a matriz, remover o ruído e recompô-la para testar quão bem a recomposição se aproxima da matriz original. Além disso, o objetivo além da recomposição é também prever o rating de um filme que um usuário ainda não assistiu."
   ]
  },
  {
   "cell_type": "markdown",
   "metadata": {},
   "source": [
    "2: Qual é a relação entre remover o ruído e a qualidade das recomendações?"
   ]
  },
  {
   "cell_type": "markdown",
   "id": "efb20ab8",
   "metadata": {},
   "source": [
    "Ao remover o ruido, tiramos os autovalores menores da matriz s de autovalores (raiz quadrada) da decomposição u,s,vt pelo svd. Isso significa que estamos removendo a informação menos relevante da matriz. Quanto mais ruido removermos, ao reconstruir a matriz, mais o valor do ruído se aproximará do valor original. Porém, se removermos demais, e tirarmos os autovetores relevantes, a recomposição da matriz será muito diferente da original, e a qualidade das recomendações será prejudicada. No exercício 17 do notebook da aula, testamos como a remoção de mais ou menos autovetores afeta a remoção de ruído, e observamos como a imagem com quase todos os autovetores removidos ficou muito diferente da original, enquanto uma com os 20 maiores autovetores removidos ficou muito parecida com a original."
   ]
  },
  {
   "cell_type": "markdown",
   "metadata": {},
   "source": [
    "3: Por que é importante realizar múltiplas estimativas e gerar um histograma de erros?"
   ]
  },
  {
   "cell_type": "markdown",
   "metadata": {},
   "source": [
    "Excelente pergunta. Quando só fazemos uma estimativa, é possível removemos muita informação ou pouca informação, e mesmo assim, por coincidência, o valor que foi aleatorizado foi reconstruido com precisão. Porém, se fizermos várias estimativas, podemos observar a distribuição dos erros, e ver se a média e desvio padrão dos erros são pequenos ou grandes. Se forem pequenos, podemos concluir que a recomposição da matriz foi bem sucedida. Em outro caso, podemos concluir que a recomposição da matriz foi mal sucedida.\n",
    "\n",
    "Por último, um histograma nos ajudará a visualizar se os erros menos grandes entre ratings aleatorizados e recompostos são mais frequentes que os erros mais grandes (Right-skewed). Se isso acontecer, podemos concluir que a recomposição da matriz foi bem sucedida. Além disso, conseguimos observar se algum outlier esquisito aconteceu. (ex. rating de 7/5)"
   ]
  },
  {
   "cell_type": "markdown",
   "metadata": {},
   "source": [
    "4: Como as técnicas vistas em aula foram aplicadas para alcançar os objetivos do projeto?"
   ]
  },
  {
   "cell_type": "markdown",
   "id": "55525a30",
   "metadata": {},
   "source": [
    "Ao deduzir o significado de \"as tecnicas vistas em aula\", interpretarei como decomposição e recomposição em PCA e SVD, remoção de ruido,e compressão de imagens.\n",
    "\n",
    "Em relação ao PCA e compressão de imagens, não aplicamos essas técnicas no projeto. Porém, aplicamos a decomposição SVD e recomposição da matriz, e remoção de ruido. A recomposição da matriz foi feita para testar a qualidade da recomposição, e a remoção de ruido foi feita para testar a qualidade das recomendações.\n",
    "\n",
    "O objetivo do projeto era criar um sistema de recomendação de filmes para o usuário. Para criar esse sistema, tinhamos que sugerir um jeito de reavaliar uma avaliação que o usuário já tinha dado quando era aleatorizada. Se o nosso \"chute\" do rating de filme que foi aleatorizado for perto do rating original, podemos concluir que o sistema de recomendação foi bem sucedido. \n",
    "\n",
    "Como esse sistema de recomendação foi criado? De novo explicando: Primeiro, aleatorizamos um valor de uma matriz de ratings. Depois, fizemos a decomposição SVD da matriz de ratings. Em seguida, removemos o ruido da matriz de ratings aleatorizada, removendo os autovalores menores da matriz s de autovalores (raiz quadrada) da decomposição u,s,vt pelo svd. Por fim, recompoemos a matriz de ratings aleatorizada sem o ruido, e comparamos o rating aleatorizado e recomposto com o rating original. Se o erro entre o rating aleatorizado e recomposto e o rating original for pequeno, podemos concluir que o sistema de recomendação foi bem sucedido. Como o que fizemos na aula tem tudo a ver com os objetivos do projeto, e não conseguiriamos prever o rating do valor estragado de outra forma que não fosse por SVD (com os aprendizados de alglin até antes da aula), as tecnicas vistas em aula foram aplicadas para alcançar os objetivos do projeto."
   ]
  }
 ],
 "metadata": {
  "language_info": {
   "name": "python"
  }
 },
 "nbformat": 4,
 "nbformat_minor": 2
}
