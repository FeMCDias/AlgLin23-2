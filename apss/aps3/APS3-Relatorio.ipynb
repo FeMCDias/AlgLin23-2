{
 "cells": [
  {
   "cell_type": "markdown",
   "metadata": {},
   "source": [
    "# Projeto 3: \"Efeitos de vídeo em tempo real\""
   ]
  },
  {
   "cell_type": "code",
   "execution_count": 1,
   "metadata": {},
   "outputs": [],
   "source": [
    "import numpy as np"
   ]
  },
  {
   "cell_type": "markdown",
   "metadata": {},
   "source": [
    "## 1: Quais transformações foram implementadas? Explique como cada matriz de transformação afeta os pontos da imagem. "
   ]
  },
  {
   "cell_type": "markdown",
   "metadata": {},
   "source": [
    "Implementamos as seguintes transformações em ordem (lembrando que os usuários customizam os parâmetros de cada transformação com suas teclas):\n",
    "\n",
    "1. **Translação 2 (T2):**\n",
    "$$\n",
    "    T2 = \\begin{bmatrix}\n",
    "    1 & 0 & -\\frac{\\text{image.shape[0]}}{2} \\\\\n",
    "    0 & 1 & -\\frac{\\text{image.shape[1]}}{2} \\\\\n",
    "    0 & 0 & 1\n",
    "    \\end{bmatrix}\n",
    "    $$\n",
    "A Matriz acima é a inversa da matriz de translação 1, que é a matriz de translação que move a imagem para o centro da tela. A matriz T2 move a imagem de volta para a origem, para que as outras transformações possam ser aplicadas. Se um pixel estiver na posição (x, y) na imagem original, ele estará na posição (x - image.shape[0]/2, y - image.shape[1]/2) na imagem transformada.\n",
    "\n",
    "2. **Escala (S):**\n",
    "    (scale` é o fator de escala)\n",
    "    $$\n",
    "    S = \\begin{bmatrix}\n",
    "    \\text{scale} & 0 & 0 \\\\\n",
    "    0 & \\text{scale} & 0 \\\\\n",
    "    0 & 0 & 1\n",
    "    \\end{bmatrix}\n",
    "    $$\n",
    "A matriz acima multiplica as coordenadas x e y de cada pixel por scale`. Se um pixel estiver na posição (x, y) na imagem original, ele estará na posição (scale * x, scale * y) na imagem transformada. Isso da a impressão de que um \"zoom\" está sendo aplicado na imagem.\n",
    "\n",
    "3. **Rotação (R):**\n",
    "    (`radians` é o ângulo de rotação em radianos)\n",
    "    $$\n",
    "    R = \\begin{bmatrix}\n",
    "    \\cos(\\text{radians}) & -\\sin(\\text{radians}) & 0 \\\\\n",
    "    \\sin(\\text{radians}) & \\cos(\\text{radians}) & 0 \\\\\n",
    "    0 & 0 & 1\n",
    "    \\end{bmatrix}\n",
    "    $$\n",
    "A matriz acima rotaciona cada pixel por `radians` radianos em torno da origem. Se um pixel estiver na posição (x, y) na imagem original, ele estará na posição (x * cos(radians) - y * sin(radians), x * sin(radians) + y * cos(radians)) na imagem transformada. Lembrando que precisamos que o centro da imagem esteja na origem pois o ponto que os pixeis se rotacionam por padrão é a origem, (0, 0).\n",
    "\n",
    "4. **Translação (T):**\n",
    "    $$\n",
    "    T = \\begin{bmatrix}\n",
    "    1 & 0 & \\frac{\\text{image.shape[0]}}{2} \\\\\n",
    "    0 & 1 & \\frac{\\text{image.shape[1]}}{2} \\\\\n",
    "    0 & 0 & 1\n",
    "    \\end{bmatrix}\n",
    "    $$\n",
    "A matriz acima leva o centro da imagem de volta para a posição original no centro da tela. Se um pixel estiver na posição (x, y) na imagem original, ele estará na posição (x + image.shape[0]/2, y + image.shape[1]/2) na imagem transformada."
   ]
  },
  {
   "cell_type": "markdown",
   "metadata": {},
   "source": [
    "## 2: Explique como funciona a remoção de artefatos e relacione o conceito ao código implementado."
   ]
  },
  {
   "cell_type": "markdown",
   "metadata": {},
   "source": [
    "Como vimos no terceiro notebook de alglin, ao realizar transformações em imagens, como rotações, pequenos pontos (ou buracos) podem aparecer na imagem resultante. Esses buracos ocorrem quando pontos na imagem transformada $X_d$ não encontram correspondentes exatos na imagem original $X_o$. Isso é evidente na equação $X_d = A X_o$, onde $X_o$ forma uma grade regular, mas $X_d$ pode não seguir o mesmo padrão, resultando em pontos pretos na imagem final.\n",
    "\n",
    "Para corrigir isso, implementamos as seguintes etapas:\n",
    "\n",
    "### 1. **Cálculo da Transformação Inversa:**<br>\n",
    "   O código emprega a inversa da matriz de transformação $A$, conforme a equação $X_o = A^{-1} X_d$. Isso significa que, em vez de mapear diretamente $X_o$ para $X_d$, calculamos onde os pontos de $X_d$ deveriam estar em $X_o$. \n"
   ]
  },
  {
   "cell_type": "code",
   "execution_count": null,
   "metadata": {},
   "outputs": [],
   "source": [
    "Xd = np.linalg.inv(Xd) @ X"
   ]
  },
  {
   "cell_type": "markdown",
   "metadata": {},
   "source": [
    "Isso evita a criação de buracos, pois cada ponto em \\(X_d\\) é mapeado de volta para um ponto válido em \\(X_o\\).\n",
    "\n",
    "### 2. **Filtragem de Índices**:\n",
    "   Após o cálculo da transformação inversa, é possível que alguns índices caiam fora dos limites da imagem original. Um filtro é aplicado para garantir que apenas índices válidos sejam considerados, evitando acessos a pixels inexistentes e prevenindo artefatos."
   ]
  },
  {
   "cell_type": "code",
   "execution_count": null,
   "metadata": {},
   "outputs": [],
   "source": [
    "filtro = (Xd[0,:] >= 0) & (Xd[0,:] < image.shape[0]) & (Xd[1,:] >= 0) & (Xd[1,:] < image.shape[1])"
   ]
  },
  {
   "cell_type": "markdown",
   "metadata": {},
   "source": [
    "### 3. **Conversão e Filtragem**:\n",
    "Os índices são então convertidos para inteiros e o filtro é aplicado, garantindo que somente índices válidos e dentro dos limites sejam utilizados. Lembramos que RGBs floats não são validos, e nossos elementos representam cores de píxeis em RGB."
   ]
  },
  {
   "cell_type": "code",
   "execution_count": null,
   "metadata": {},
   "outputs": [],
   "source": [
    "X = X.astype(int)\n",
    "Xd = Xd.astype(int)\n",
    "X = X[:,filtro]\n",
    "Xd = Xd[:,filtro]"
   ]
  },
  {
   "cell_type": "markdown",
   "metadata": {},
   "source": [
    "### 4. **Transferência de Pixels**:\n",
    "Finalmente, os valores dos pixels são transferidos da imagem original para a imagem transformada, preenchendo efetivamente os pontos na imagem resultante e minimizando artefatos.\n"
   ]
  },
  {
   "cell_type": "code",
   "execution_count": null,
   "metadata": {},
   "outputs": [],
   "source": [
    "image_[X[0,:],X[1,:]] = image[Xd[0,:],Xd[1,:]]"
   ]
  },
  {
   "cell_type": "markdown",
   "metadata": {},
   "source": [
    "Dessa maneira, o processo descrito ajuda a mitigar os problemas associados às transformações de imagem, garantindo que a imagem resultante seja o mais precisa e clara possível, sem a presença de artefatos visuais indesejados."
   ]
  },
  {
   "cell_type": "markdown",
   "metadata": {},
   "source": [
    "## 3: Como foi implementado o processo responsável por salvar o vídeo? Explique o código implementado."
   ]
  },
  {
   "cell_type": "markdown",
   "metadata": {},
   "source": [
    "### Inicialização\n",
    "- Primeiro, a função `cv.VideoCapture(0)` é usada para inicializar a captura de vídeo, pegando o feed da primeira câmera detectada (geralmente a câmera embutida em um laptop ou uma webcam externa).\n",
    "- A função `cap.set(cv.CAP_PROP_FPS, 45)` tenta definir a taxa de quadros da captura para 45 FPS.\n",
    "\n",
    "### Configuração de Gravação\n",
    "- A flag `recording` é definida como `False` para indicar que a gravação não está acontecendo inicialmente.\n",
    "- O formato `H264` indica formato MP4, então definimos que o nosso output de video seria em mp4 na linha  `fourcc = cv.VideoWriter_fourcc(*'H264')`.\n",
    "\n",
    "### Loop Principal\n",
    "- Dentro do loop `while True:`, o código lê um frame da câmera com `ret, frame = cap.read()`.\n",
    "- O frame é redimensionado e transformado.\n",
    "- Dependendo da tecla pressionada pelo usuário:\n",
    "  - A tecla `s` inicia a gravação. Quando a gravação não está ativa (`if not recording:`), a gravação é iniciada. O `VideoWriter` é inicializado com o nome do arquivo, o formato `H264`, o framerate e o tamanho do frame. O flag `recording` é definido como `True`.\n",
    "  - A tecla `e` para a gravação e salva o vídeo. Se a gravação estiver ativa (`if recording:`), a gravação é parada e o vídeo é salvo. O flag `recording` é definido como `False`.\n",
    "- Se `recording` for `True`, o frame transformado é escrito no arquivo de vídeo usando `out.write((image_transformada * 255).astype(np.uint8))`."
   ]
  }
 ],
 "metadata": {
  "kernelspec": {
   "display_name": "Python 3",
   "language": "python",
   "name": "python3"
  },
  "language_info": {
   "codemirror_mode": {
    "name": "ipython",
    "version": 3
   },
   "file_extension": ".py",
   "mimetype": "text/x-python",
   "name": "python",
   "nbconvert_exporter": "python",
   "pygments_lexer": "ipython3",
   "version": "3.9.10"
  },
  "orig_nbformat": 4
 },
 "nbformat": 4,
 "nbformat_minor": 2
}
