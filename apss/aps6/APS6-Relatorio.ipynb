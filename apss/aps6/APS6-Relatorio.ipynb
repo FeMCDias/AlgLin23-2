{
 "cells": [
  {
   "cell_type": "markdown",
   "metadata": {},
   "source": [
    "# Projeto 6: \"Jogador de forca\""
   ]
  },
  {
   "cell_type": "markdown",
   "metadata": {},
   "source": [
    "1: A primeira letra escolhida sempre é a letra \"a\". Qual a entropia associada a essa escolha?"
   ]
  },
  {
   "cell_type": "markdown",
   "metadata": {},
   "source": []
  },
  {
   "cell_type": "markdown",
   "metadata": {},
   "source": [
    "2: Qual seria a entropia associada a escolher qualquer outra letra (a sua escolha) como o primeiro chute? Como as entropias das duas letras (\"a\" e a escolhida) se relacionam?"
   ]
  },
  {
   "cell_type": "markdown",
   "metadata": {},
   "source": []
  },
  {
   "cell_type": "markdown",
   "metadata": {},
   "source": [
    "3: A análise dos principais casos de erro apresentada está correta? Forneça uma justificativa baseada em dados."
   ]
  },
  {
   "cell_type": "markdown",
   "metadata": {},
   "source": []
  }
 ],
 "metadata": {
  "language_info": {
   "name": "python"
  },
  "orig_nbformat": 4
 },
 "nbformat": 4,
 "nbformat_minor": 2
}
