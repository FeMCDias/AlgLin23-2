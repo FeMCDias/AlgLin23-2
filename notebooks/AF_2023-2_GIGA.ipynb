{
 "cells": [
  {
   "attachments": {},
   "cell_type": "markdown",
   "metadata": {},
   "source": [
    "# Avaliação Final\n",
    "\n",
    "NOME: Felipe Maluli de Carvalho Dias\n",
    "\n",
    "\n",
    "E-MAIL: felipemcd1@al.insper.edu.br\n",
    "femcdias@gmail.com"
   ]
  },
  {
   "attachments": {},
   "cell_type": "markdown",
   "metadata": {},
   "source": [
    "Esta é a A.F. de Álgebra Linear e Teoria da Informação de 2s2023.\n",
    "\n",
    "INSTRUÇÕES:\n",
    "\n",
    "1. Faça todas as questões\n",
    "1. Salve o notebook\n",
    "1. Envie o notebook salvo no Blackboard\n",
    "\n",
    "IMPORTANTE:\n",
    "\n",
    "* Você pode consultar qualquer material, mas não qualquer colega ou pessoa humana, presente ou não na prova.\n",
    "* Não é permitida a utilização de geradores de texto, como o GPT-3. É permitida somente a utilização do copilot.\n",
    "* O envio da prova será fechado às 11h45. Aqueles que não enviarem o material até este horário ficarão com zero.\n",
    "* A prova vale um total de 10 pontos. Cada questão vale 2.5 pontos.\n",
    "* Os conceitos F, E, D, C, B, A serão mapeados para 0, 2, 4, 6, 8 e 10.\n",
    "* Para todas as questões, usaremos a rubrica que segue anexa a esta prova. Há uma rubrica para a justificativa e uma rubrica para o código. A nota da questão é a menor entre as notas da justificativa e do código.\n"
   ]
  },
  {
   "cell_type": "code",
   "execution_count": 1,
   "metadata": {},
   "outputs": [],
   "source": [
    "import numpy as np\n",
    "import pandas as pd\n",
    "import matplotlib.pyplot as plt"
   ]
  },
  {
   "attachments": {},
   "cell_type": "markdown",
   "metadata": {},
   "source": [
    "# Exercício 1\n",
    "\n",
    "A matriz $X$ é:\n",
    "\n",
    "$$\n",
    "X = \\begin{bmatrix} 0.95 & -0.75 \\\\ 0.252 & -0.05 \\end{bmatrix}\n",
    "$$\n",
    "\n",
    "Um auto-vetor de X é:\n",
    "$$\n",
    "v = \\begin{bmatrix} 3 \\\\ 1 \\end{bmatrix}\n",
    "$$\n",
    "\n",
    "Quais dentre os valores abaixo seriam auto-valores de $X$ em par com o auto-vetor $v$? Justifique sua resposta.\n",
    "\n",
    "[ ] 0.2\n",
    "\n",
    "[ ] 0.31\n",
    "\n",
    "[ X ] 0.7\n",
    "\n",
    "[ ] 0.7071\n",
    "\n",
    "[ ] 0.94\n",
    "\n",
    "[ ] 1\n",
    "\n",
    "[ ] 2.1\n",
    "\n",
    "[ ] 3"
   ]
  },
  {
   "cell_type": "code",
   "execution_count": 18,
   "metadata": {},
   "outputs": [
    {
     "name": "stdout",
     "output_type": "stream",
     "text": [
      "[[0.9486833  0.70710678]\n",
      " [0.31622777 0.70710678]]\n",
      "[0.7 0.2]\n"
     ]
    }
   ],
   "source": [
    "X = np.array([[0.95, -0.75], [0.25, -0.05]])\n",
    "eigenvalues, eigenvectors = np.linalg.eig(X)\n",
    "print(eigenvectors)\n",
    "print(eigenvalues)"
   ]
  },
  {
   "cell_type": "code",
   "execution_count": 19,
   "metadata": {},
   "outputs": [
    {
     "data": {
      "text/plain": [
       "array([[2.1],\n",
       "       [0.7]])"
      ]
     },
     "execution_count": 19,
     "metadata": {},
     "output_type": "execute_result"
    }
   ],
   "source": [
    "AvezesV = X @ np.array([[3],[1]])\n",
    "AvezesV"
   ]
  },
  {
   "cell_type": "code",
   "execution_count": 21,
   "metadata": {},
   "outputs": [
    {
     "name": "stdout",
     "output_type": "stream",
     "text": [
      "[[2.1]\n",
      " [0.7]]\n",
      "[[0.6]\n",
      " [0.2]]\n"
     ]
    }
   ],
   "source": [
    "print(np.array([[3],[1]]) * 0.7)\n",
    "print(np.array([[3],[1]]) * 0.2)"
   ]
  },
  {
   "cell_type": "markdown",
   "metadata": {},
   "source": [
    "Dado a equação $Xv = v\\lambda$, como $Xv = \\begin{bmatrix} 2.1 \\\\ 0.7 \\end{bmatrix}$ e $v\\lambda = \\begin{bmatrix} 3\\lambda \\\\ \\lambda \\end{bmatrix}$, o único autovalor que satisfaz a equação é $\\lambda = 0.7$."
   ]
  },
  {
   "attachments": {},
   "cell_type": "markdown",
   "metadata": {},
   "source": [
    "# Exercício 2\n",
    "\n",
    "Você foi designado para realizar a importante tarefa de analisar um conjunto de dados contendo informações de uma famosa série animada japonesa. Por ser um expecialista em Álgebra Linear, você decidiu aplicar a projeção PCA para reduzir a dimensionalidade dos dados. Assim, utilize o conjunto de dados fornecido com a prova (retirado [daqui](https://www.kaggle.com/datasets/dinishsubaramaniam/op-episodes-and-arcs/)), aplique a projeção PCA nele e decida qual o número de dimensões que você usaria para representar os dados. Justifique sua resposta."
   ]
  },
  {
   "cell_type": "code",
   "execution_count": 23,
   "metadata": {},
   "outputs": [],
   "source": [
    "from sklearn.decomposition import PCA\n",
    "import pandas as pd\n",
    "\n",
    "df = pd.read_csv('one piece arcs.csv').select_dtypes(['number'])\n",
    "numeric_columns = df.to_numpy()"
   ]
  },
  {
   "cell_type": "code",
   "execution_count": 24,
   "metadata": {},
   "outputs": [
    {
     "data": {
      "text/html": [
       "<div>\n",
       "<style scoped>\n",
       "    .dataframe tbody tr th:only-of-type {\n",
       "        vertical-align: middle;\n",
       "    }\n",
       "\n",
       "    .dataframe tbody tr th {\n",
       "        vertical-align: top;\n",
       "    }\n",
       "\n",
       "    .dataframe thead th {\n",
       "        text-align: right;\n",
       "    }\n",
       "</style>\n",
       "<table border=\"1\" class=\"dataframe\">\n",
       "  <thead>\n",
       "    <tr style=\"text-align: right;\">\n",
       "      <th></th>\n",
       "      <th>Arc Type</th>\n",
       "      <th>Total Chapters</th>\n",
       "      <th>Manga Percentage</th>\n",
       "      <th>Total Episodes</th>\n",
       "      <th>Total Minutes</th>\n",
       "      <th>Anime Percentage</th>\n",
       "    </tr>\n",
       "  </thead>\n",
       "  <tbody>\n",
       "    <tr>\n",
       "      <th>0</th>\n",
       "      <td>0</td>\n",
       "      <td>7</td>\n",
       "      <td>0.0067</td>\n",
       "      <td>3</td>\n",
       "      <td>72</td>\n",
       "      <td>0.0028</td>\n",
       "    </tr>\n",
       "    <tr>\n",
       "      <th>1</th>\n",
       "      <td>0</td>\n",
       "      <td>14</td>\n",
       "      <td>0.0133</td>\n",
       "      <td>5</td>\n",
       "      <td>120</td>\n",
       "      <td>0.0046</td>\n",
       "    </tr>\n",
       "    <tr>\n",
       "      <th>2</th>\n",
       "      <td>0</td>\n",
       "      <td>20</td>\n",
       "      <td>0.0191</td>\n",
       "      <td>10</td>\n",
       "      <td>240</td>\n",
       "      <td>0.0093</td>\n",
       "    </tr>\n",
       "    <tr>\n",
       "      <th>3</th>\n",
       "      <td>0</td>\n",
       "      <td>27</td>\n",
       "      <td>0.0257</td>\n",
       "      <td>12</td>\n",
       "      <td>288</td>\n",
       "      <td>0.0112</td>\n",
       "    </tr>\n",
       "    <tr>\n",
       "      <th>4</th>\n",
       "      <td>0</td>\n",
       "      <td>27</td>\n",
       "      <td>0.0257</td>\n",
       "      <td>14</td>\n",
       "      <td>360</td>\n",
       "      <td>0.0130</td>\n",
       "    </tr>\n",
       "  </tbody>\n",
       "</table>\n",
       "</div>"
      ],
      "text/plain": [
       "   Arc Type  Total Chapters  Manga Percentage  Total Episodes  Total Minutes  \\\n",
       "0         0               7            0.0067               3             72   \n",
       "1         0              14            0.0133               5            120   \n",
       "2         0              20            0.0191              10            240   \n",
       "3         0              27            0.0257              12            288   \n",
       "4         0              27            0.0257              14            360   \n",
       "\n",
       "   Anime Percentage  \n",
       "0            0.0028  \n",
       "1            0.0046  \n",
       "2            0.0093  \n",
       "3            0.0112  \n",
       "4            0.0130  "
      ]
     },
     "execution_count": 24,
     "metadata": {},
     "output_type": "execute_result"
    }
   ],
   "source": [
    "df.head()"
   ]
  },
  {
   "cell_type": "code",
   "execution_count": 46,
   "metadata": {},
   "outputs": [
    {
     "name": "stdout",
     "output_type": "stream",
     "text": [
      "[0.99859954]\n",
      "[0.99859954 0.0012646 ]\n",
      "[9.98599544e-01 1.26459968e-03 1.35440244e-04]\n"
     ]
    }
   ],
   "source": [
    "from sklearn.decomposition import PCA\n",
    "\n",
    "pca = PCA(n_components=1)\n",
    "Y = pca.fit_transform(numeric_columns)\n",
    "pca2 = PCA(n_components=2)\n",
    "Y2 = pca2.fit_transform(numeric_columns)\n",
    "pca3 = PCA(n_components=3)\n",
    "Y3 = pca3.fit_transform(numeric_columns)\n",
    "\n",
    "# checking what cumulative explained variance ratio is better\n",
    "print(pca.explained_variance_ratio_)\n",
    "print(pca2.explained_variance_ratio_)\n",
    "print(pca3.explained_variance_ratio_)"
   ]
  },
  {
   "cell_type": "code",
   "execution_count": 51,
   "metadata": {},
   "outputs": [
    {
     "name": "stdout",
     "output_type": "stream",
     "text": [
      "Components of chosen dimensionality: \n",
      " [[-3.56370731e-04  4.35521868e-02  4.15830798e-05  4.77054409e-02\n",
      "   9.97911453e-01  4.43471823e-05]]\n"
     ]
    }
   ],
   "source": [
    "print(\"Components of chosen dimensionality: \\n\", pca.components_)"
   ]
  },
  {
   "cell_type": "markdown",
   "metadata": {},
   "source": [
    "Identificamos que ao separar os dados em 1, 2, e 3 componentes, o primeiro componente acaba sendo muito mais relevante que os outros, evidenciado pela proporção de variância explicada de 0.9986 do primeiro componenente(99.86% da informação guardada em um componente primário). Assim, podemos reduzir a dimensionalidade para 1 componente, sem perder muita informação."
   ]
  },
  {
   "cell_type": "code",
   "execution_count": 47,
   "metadata": {},
   "outputs": [
    {
     "data": {
      "text/plain": [
       "[<matplotlib.lines.Line2D at 0x177e53070>]"
      ]
     },
     "execution_count": 47,
     "metadata": {},
     "output_type": "execute_result"
    },
    {
     "data": {
      "image/png": "[encoded data removed]",
      "text/plain": [
       "<Figure size 432x288 with 1 Axes>"
      ]
     },
     "metadata": {
      "needs_background": "light"
     },
     "output_type": "display_data"
    }
   ],
   "source": [
    "# Plotting one dimension PCA\n",
    "plt.scatter(Y, np.zeros_like(Y))\n",
    "plt.title('One Piece Arcs Reduced to One Dimension')\n",
    "#plot line\n",
    "plt.plot([0, 1], [0, 0], color='k', linestyle='-', linewidth=2)\n"
   ]
  },
  {
   "cell_type": "markdown",
   "metadata": {},
   "source": [
    "# Exercício 3\n",
    "\n",
    "Um grupo de estudos do meio ambiente no planeta de Kabum Prime possui um balão meteorológico que coleta diversos dados sobre a atmosfera.\n",
    "\n",
    "Foi desenvolvido um novo sensor e os cientistas estão analisando se devem incorporar ele ao balão.\n",
    "\n",
    "O sensor atual suporta uma temperatura de -50 graus Celsius.\n",
    "\n",
    "O novo sensor suporta uma temperatura de -70 graus Celsius.\n",
    "\n",
    "O grupo de estudos mediu a temperatura da atmosfera em diversos pontos e obteve os dados apresentados abaixo.\n",
    "\n",
    "Utilizando o método de descida pelo gradiente com um modelo linear do tipo $y=ax+b$ responda: Qual a altura máxima aproximada que o balão pode atingir com o novo sensor?"
   ]
  },
  {
   "cell_type": "code",
   "execution_count": 103,
   "metadata": {},
   "outputs": [
    {
     "name": "stdout",
     "output_type": "stream",
     "text": [
      "y =  -3.03 x +  40.33\n"
     ]
    },
    {
     "data": {
      "image/png": "[encoded data removed]",
      "text/plain": [
       "<Figure size 432x288 with 1 Axes>"
      ]
     },
     "metadata": {
      "needs_background": "light"
     },
     "output_type": "display_data"
    },
    {
     "name": "stdout",
     "output_type": "stream",
     "text": [
      "y =  -2.72 x +  35.08\n"
     ]
    },
    {
     "data": {
      "image/png": "[encoded data removed]",
      "text/plain": [
       "<Figure size 432x288 with 1 Axes>"
      ]
     },
     "metadata": {
      "needs_background": "light"
     },
     "output_type": "display_data"
    }
   ],
   "source": [
    "import matplotlib.pyplot as plt\n",
    "import random\n",
    "import autograd.numpy as np_\n",
    "from autograd import grad\n",
    "\n",
    "def loss( parametros ):\n",
    "    a, b, x, y_medido = parametros\n",
    "    yhat = a * x + b\n",
    "    mse = np_.mean( (yhat - y_medido)**2 )\n",
    "    return mse\n",
    "\n",
    "g = grad(loss)\n",
    "\n",
    "altura = np.array([1.4, 3.0, 3.7, 4.0, 4.4, 4.5, 4.7, 4.8, 5.4, 5.6, 6.9, 7.0, 7.9, 8.0, 9.0, 9.3, 10.2, 10.2, 10.3, 10.5, 10.5, 10.6, 11.0, 12.2, 12.8, 13.6, 14.0, 14.2, 15.2, 15.2, 15.3, 16.0, 16.8, 17.7, 18.0, 18.9, 19.3, 19.6, 20.6, 20.6, 20.6, 21.3, 22.1, 22.5, 23.5, 23.7, 23.9, 24.0, 24.1, 24.8])\n",
    "temperatura = np.array([24.5, 24.5, 24.3, 24.0, 22.3, 22.1, 21.2, 20.1, 19.6, 19.3, 18.8, 19.0, 18.5, 17.4, 16.6, 16.4, 15.4, 15.1, 14.5, 13.7, 12.2, 11.3, 9.7, 7.2, 5.5, 4.3, 3.1, 1.5, -0.7, -2.3, -2.9, -4.6, -6.1, -7.5, -9.7, -11.9, -13.6, -16.5, -18.7, -21.8, -24.5, -26.9, -29.0, -31.1, -33.6, -36.2, -38.9, -41.8, -44.0, -46.9])\n",
    "\n",
    "a1 = 0.0\n",
    "b1 = 0.0\n",
    "\n",
    "for i in range(10000):\n",
    "    gradiente = g( (a1, b1, altura, temperatura) )\n",
    "    a1 = a1 - 0.004 * gradiente[0]\n",
    "    b1 = b1 - 0.004 * gradiente[1]\n",
    "print(\"y = \", a1.round(2), \"x + \", b1.round(2))\n",
    "plt.figure()\n",
    "plt.scatter(altura,temperatura)\n",
    "plt.plot(altura, a1 * np.array(altura) + b1, color='red')\n",
    "plt.xlabel('Altitude (Km)')\n",
    "plt.ylabel('Temperatura (°C)')\n",
    "plt.title('Gradiente Descendente Com Step Size 0.004')\n",
    "plt.show()\n",
    "\n",
    "a2 = 0.0\n",
    "b2 = 0.0\n",
    "\n",
    "for i in range(10000):\n",
    "    gradiente = g( (a2, b2, altura, temperatura) )\n",
    "    a2 = a2 - 0.0005 * gradiente[0]\n",
    "    b2 = b2 - 0.0005 * gradiente[1]\n",
    "print(\"y = \", a2.round(2), \"x + \", b2.round(2))\n",
    "plt.figure()\n",
    "plt.scatter(altura,temperatura)\n",
    "plt.plot(altura, a2 * np.array(altura) + b2, color='red')\n",
    "plt.xlabel('Altitude (Km)')\n",
    "plt.ylabel('Temperatura (°C)')\n",
    "plt.title('Gradiente Descendente Com Step Size 0.0005')\n",
    "plt.show()"
   ]
  },
  {
   "cell_type": "code",
   "execution_count": 105,
   "metadata": {},
   "outputs": [
    {
     "name": "stdout",
     "output_type": "stream",
     "text": [
      "Erro total com step size 0.004:  1313.8\n",
      "Erro total com step size 0.0005:  1595.74\n",
      "R2 com step size 0.004:  0.94\n",
      "R2 com step size 0.0005:  0.93\n"
     ]
    }
   ],
   "source": [
    "erro_total_0_004 = 0.0\n",
    "variancia_0_004 = 0.0\n",
    "erro_total_0_0005 = 0.0\n",
    "variancia_0_0005 = 0.0\n",
    "\n",
    "\n",
    "for i in range(len(altura)):\n",
    "    erro_total_0_004 += (temperatura[i] - (a1 * altura[i] + b1))**2\n",
    "    erro_total_0_0005 += (temperatura[i] - (a2 * altura[i] + b2))**2\n",
    "    variancia_0_004 += (temperatura[i] - np.mean(temperatura))**2\n",
    "    variancia_0_0005 += (temperatura[i] - np.mean(temperatura))**2\n",
    "print(\"Erro total com step size 0.004: \", erro_total_0_004.round(2))\n",
    "print(\"Erro total com step size 0.0005: \", erro_total_0_0005.round(2))\n",
    "\n",
    "print(\"R2 com step size 0.004: \", (1 - erro_total_0_004/variancia_0_004).round(2))\n",
    "print(\"R2 com step size 0.0005: \", (1 - erro_total_0_0005/variancia_0_0005).round(2))\n"
   ]
  },
  {
   "cell_type": "markdown",
   "metadata": {},
   "source": [
    "Dado que o erro cumulativo do modelo com o step maior (de 0.004) é menor, e o Rˆ2 é maior, podemos concluir que o modelo com step maior é melhor. Agora, calcularemos a altura máxima que o novo sensor pode atingir dado que a temperatura é -70 graus Celsius."
   ]
  },
  {
   "cell_type": "code",
   "execution_count": 111,
   "metadata": {},
   "outputs": [
    {
     "name": "stdout",
     "output_type": "stream",
     "text": [
      "Chosen Function:  y =  -3.03 x +  40.33\n",
      "-70 =  -3.03 * x +  40.33\n",
      "x =  36.412541254125415\n"
     ]
    }
   ],
   "source": [
    "print(\"Chosen Function: \", \"y = \", a1.round(2), \"x + \", b1.round(2))\n",
    "print(\"-70 = \", a1.round(2), \"* x + \", b1.round(2))\n",
    "print(\"x = \", (-70 - b1.round(2))/a1.round(2))"
   ]
  },
  {
   "cell_type": "markdown",
   "metadata": {},
   "source": [
    "Utilizando o modelo $y=ax+b$, estimamos que a altitude máxima que o balão pode atingir com o novo sensor é de 36.4km."
   ]
  },
  {
   "attachments": {},
   "cell_type": "markdown",
   "metadata": {},
   "source": [
    "# Exercício 4\n",
    "\n",
    "1. Apresente a árvore de Huffman para a palavra `COELHO`.\n",
    "1. Qual é a codificação da palavra `COELHO` na árvore apresentada?\n",
    "1. Qual é o limite inferior para o número de bits que devem ser usados para representar essa palavra?"
   ]
  },
  {
   "cell_type": "code",
   "execution_count": 116,
   "metadata": {},
   "outputs": [
    {
     "name": "stdout",
     "output_type": "stream",
     "text": [
      "{'filho_0': {'prob': 0.3333333333333333, 'valor': 'O'},\n",
      " 'filho_1': {'filho_0': {'filho_0': {'prob': 0.16666666666666666, 'valor': 'E'},\n",
      "                         'filho_1': {'prob': 0.16666666666666666, 'valor': 'L'},\n",
      "                         'prob': 0.3333333333333333,\n",
      "                         'valor': 'NAO_FOLHA'},\n",
      "             'filho_1': {'filho_0': {'prob': 0.16666666666666666, 'valor': 'C'},\n",
      "                         'filho_1': {'prob': 0.16666666666666666, 'valor': 'H'},\n",
      "                         'prob': 0.3333333333333333,\n",
      "                         'valor': 'NAO_FOLHA'},\n",
      "             'prob': 0.6666666666666666,\n",
      "             'valor': 'NAO_FOLHA'},\n",
      " 'prob': 1.0,\n",
      " 'valor': 'NAO_FOLHA'}\n"
     ]
    }
   ],
   "source": [
    "def huffman_tree(texto : str):\n",
    "    \"\"\"Monta a arvore de codificacao usando o algoritmo de huffman\"\"\"\n",
    "    def get_prob(item):\n",
    "        return item['prob']\n",
    "\n",
    "    f = []\n",
    "\n",
    "    # Calcula probabilidade de cada caractere      \n",
    "    for c in set(texto):\n",
    "        f.append(  {'prob':texto.count(c)/len(texto), 'valor':c} )\n",
    "    f.sort(key=get_prob)\n",
    "    \n",
    "    while len(f) > 1:\n",
    "        c1 = f.pop(0)\n",
    "        c2 = f.pop(0)\n",
    "        novo_node = {'valor':'NAO_FOLHA', 'prob':c1['prob']+c2['prob'], 'filho_0':c1, 'filho_1': c2}\n",
    "        \n",
    "        f.insert(0, novo_node)\n",
    "        f.sort(key=get_prob)\n",
    "\n",
    "    return f[0]\n",
    "\n",
    "from pprint import pprint\n",
    "pprint(huffman_tree(\"COELHO\"))"
   ]
  },
  {
   "cell_type": "raw",
   "metadata": {},
   "source": [
    "A)\n",
    "----------------NODE-------\n",
    "------- O(1) -|------ NODE(0)\n",
    "--------------|-NODE(1)---|---NODE(0)\n",
    "---------- E(011)--L(010)-|- C(001) -- H(000)\n",
    "\n",
    "B) COELHO = 001 1 011 010 000 1\n",
    "C) NUM_MIN_BITS = 14"
   ]
  },
  {
   "cell_type": "code",
   "execution_count": 131,
   "metadata": {},
   "outputs": [
    {
     "name": "stdout",
     "output_type": "stream",
     "text": [
      "{'filho_0': {'filho_0': {'prob': 0.16666666666666666, 'valor': 'C'},\n",
      "             'filho_1': {'prob': 0.16666666666666666, 'valor': 'A'},\n",
      "             'prob': 0.3333333333333333,\n",
      "             'valor': 'NAO_FOLHA'},\n",
      " 'filho_1': {'filho_0': {'filho_0': {'prob': 0.16666666666666666, 'valor': 'O'},\n",
      "                         'filho_1': {'prob': 0.16666666666666666, 'valor': 'I'},\n",
      "                         'prob': 0.3333333333333333,\n",
      "                         'valor': 'NAO_FOLHA'},\n",
      "             'filho_1': {'filho_0': {'prob': 0.16666666666666666, 'valor': 'M'},\n",
      "                         'filho_1': {'prob': 0.16666666666666666, 'valor': 'R'},\n",
      "                         'prob': 0.3333333333333333,\n",
      "                         'valor': 'NAO_FOLHA'},\n",
      "             'prob': 0.6666666666666666,\n",
      "             'valor': 'NAO_FOLHA'},\n",
      " 'prob': 1.0,\n",
      " 'valor': 'NAO_FOLHA'}\n"
     ]
    },
    {
     "data": {
      "image/png": "[encoded data removed]",
      "text/plain": [
       "<Figure size 432x288 with 1 Axes>"
      ]
     },
     "metadata": {},
     "output_type": "display_data"
    }
   ],
   "source": [
    "marcio_tree = huffman_tree(\"MARCIO\")\n",
    "pprint(marcio_tree)\n",
    "\n",
    "# graph marcio tree\n",
    "\n",
    "import networkx as nx\n",
    "import matplotlib.pyplot as plt\n",
    "\n",
    "def graph_marcio_tree(tree, graph, parent=None):\n",
    "    if tree['valor'] == 'NAO_FOLHA':\n",
    "        graph.add_node(tree['valor'], prob=tree['prob'])\n",
    "        if parent is not None:\n",
    "            graph.add_edge(parent, tree['valor'])\n",
    "        graph_marcio_tree(tree['filho_0'], graph, tree['valor'])\n",
    "        graph_marcio_tree(tree['filho_1'], graph, tree['valor'])\n",
    "    else:\n",
    "        graph.add_node(tree['valor'], prob=tree['prob'])\n",
    "        if parent is not None:\n",
    "            graph.add_edge(parent, tree['valor'])\n",
    "\n",
    "G = nx.Graph()\n",
    "graph_marcio_tree(marcio_tree, G)\n",
    "nx.draw(G, with_labels=True)\n",
    "plt.show()"
   ]
  }
 ],
 "metadata": {
  "kernelspec": {
   "display_name": "math",
   "language": "python",
   "name": "python3"
  },
  "language_info": {
   "codemirror_mode": {
    "name": "ipython",
    "version": 3
   },
   "file_extension": ".py",
   "mimetype": "text/x-python",
   "name": "python",
   "nbconvert_exporter": "python",
   "pygments_lexer": "ipython3",
   "version": "3.9.10"
  },
  "orig_nbformat": 4
 },
 "nbformat": 4,
 "nbformat_minor": 2
}
